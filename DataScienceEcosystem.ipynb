{
 "cells": [
  {
   "cell_type": "markdown",
   "id": "ead1e40f-5dbd-483b-b5e4-ecb22e73d1ad",
   "metadata": {},
   "source": [
    "# Data Science Tools and Ecosystem"
   ]
  },
  {
   "cell_type": "markdown",
   "id": "768a04cb-7999-4e30-80e6-8afd2b7fc8f5",
   "metadata": {},
   "source": [
    "In this notebook, Data Science Tools and Ecosystem are summarized."
   ]
  },
  {
   "cell_type": "markdown",
   "id": "2eb74922-4577-41d4-aeac-36ce056d1b7e",
   "metadata": {},
   "source": [
    "__Objectives:__ \n",
    "- Popular languages used by data scientists\n",
    "- Libraries used by data scientists\n",
    "- Data science tools"
   ]
  },
  {
   "cell_type": "markdown",
   "id": "8775dd1f-d8d0-4187-9825-885836d99fb3",
   "metadata": {},
   "source": [
    "Some of the popular languages that Data Scientists use are:\n",
    "1. Python\n",
    "2. SQL\n",
    "3. R\n",
    "4. Julia\n",
    "5. Java\n",
    "6. Scala"
   ]
  },
  {
   "cell_type": "markdown",
   "id": "06be5d8d-8a65-4157-98c5-582775115cd1",
   "metadata": {},
   "source": [
    "Some of the commonly used libraries used by Data Scientists include:\n",
    "1. Matplotlib\n",
    "2. NumPy\n",
    "3. Panda\n",
    "4. SciPy\n",
    "5. Plotly"
   ]
  },
  {
   "cell_type": "markdown",
   "id": "ed8ec859-10a3-47b0-963b-f3650aaba8ee",
   "metadata": {},
   "source": [
    "| Data Science Tools | \n",
    "|--------|\n",
    "| ApacheSpark |\n",
    "| TensorFlow |\n",
    "| RStudio |"
   ]
  },
  {
   "cell_type": "markdown",
   "id": "ed5e6810-8f63-443b-a094-f9793357c951",
   "metadata": {},
   "source": [
    "### Below are a few examples of evaluating arithmetic expressions in Python"
   ]
  },
  {
   "cell_type": "code",
   "execution_count": 4,
   "id": "48d53100-c24d-4ca2-9765-7030c7dc99ed",
   "metadata": {},
   "outputs": [
    {
     "data": {
      "text/plain": [
       "17"
      ]
     },
     "execution_count": 4,
     "metadata": {},
     "output_type": "execute_result"
    }
   ],
   "source": [
    "# This a simple arithmetic expression to mutiply then add integers.\n",
    "(3*4)+5"
   ]
  },
  {
   "cell_type": "code",
   "execution_count": 9,
   "id": "e340db75-6ef5-406c-a043-827e3a0dfd52",
   "metadata": {},
   "outputs": [
    {
     "name": "stdout",
     "output_type": "stream",
     "text": [
      "3 hours 20 minutes\n"
     ]
    }
   ],
   "source": [
    "# This will convert 200 minutes to hours by diving by 60\n",
    "print(200//60 , \"hours\" , 200%60 , \"minutes\")"
   ]
  },
  {
   "cell_type": "markdown",
   "id": "1feddca9-96a7-41b2-b959-a7028573ea79",
   "metadata": {},
   "source": [
    "## Author \n",
    "Ji Eun Kim"
   ]
  }
 ],
 "metadata": {
  "kernelspec": {
   "display_name": "Python 3 (ipykernel)",
   "language": "python",
   "name": "python3"
  },
  "language_info": {
   "codemirror_mode": {
    "name": "ipython",
    "version": 3
   },
   "file_extension": ".py",
   "mimetype": "text/x-python",
   "name": "python",
   "nbconvert_exporter": "python",
   "pygments_lexer": "ipython3",
   "version": "3.11.7"
  }
 },
 "nbformat": 4,
 "nbformat_minor": 5
}
